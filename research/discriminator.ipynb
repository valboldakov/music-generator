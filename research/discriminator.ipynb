{
 "cells": [
  {
   "cell_type": "code",
   "execution_count": 1,
   "metadata": {
    "collapsed": false,
    "jupyter": {
     "outputs_hidden": false
    },
    "pycharm": {
     "name": "#%%\n"
    }
   },
   "outputs": [],
   "source": [
    "RANDOM_STATE: int = 151\n",
    "SEQ_LEN: int = 8\n",
    "COMPOSITIONS_PER_CLASS: int = 50\n",
    "CHORDS_VOCAB_SIZE: int = 15000"
   ]
  },
  {
   "cell_type": "code",
   "execution_count": 2,
   "metadata": {},
   "outputs": [
    {
     "data": {
      "text/html": [
       "<div>\n",
       "<style scoped>\n",
       "    .dataframe tbody tr th:only-of-type {\n",
       "        vertical-align: middle;\n",
       "    }\n",
       "\n",
       "    .dataframe tbody tr th {\n",
       "        vertical-align: top;\n",
       "    }\n",
       "\n",
       "    .dataframe thead th {\n",
       "        text-align: right;\n",
       "    }\n",
       "</style>\n",
       "<table border=\"1\" class=\"dataframe\">\n",
       "  <thead>\n",
       "    <tr style=\"text-align: right;\">\n",
       "      <th></th>\n",
       "      <th>Path</th>\n",
       "      <th>IsClassic</th>\n",
       "    </tr>\n",
       "  </thead>\n",
       "  <tbody>\n",
       "    <tr>\n",
       "      <th>0</th>\n",
       "      <td>classic/chpn-p20.mid</td>\n",
       "      <td>True</td>\n",
       "    </tr>\n",
       "    <tr>\n",
       "      <th>1</th>\n",
       "      <td>classic/scn16_6.mid</td>\n",
       "      <td>True</td>\n",
       "    </tr>\n",
       "    <tr>\n",
       "      <th>2</th>\n",
       "      <td>classic/chpn-p12.mid</td>\n",
       "      <td>True</td>\n",
       "    </tr>\n",
       "    <tr>\n",
       "      <th>3</th>\n",
       "      <td>classic/bor_ps2.mid</td>\n",
       "      <td>True</td>\n",
       "    </tr>\n",
       "    <tr>\n",
       "      <th>4</th>\n",
       "      <td>classic/scn15_1.mid</td>\n",
       "      <td>True</td>\n",
       "    </tr>\n",
       "    <tr>\n",
       "      <th>...</th>\n",
       "      <td>...</td>\n",
       "      <td>...</td>\n",
       "    </tr>\n",
       "    <tr>\n",
       "      <th>337</th>\n",
       "      <td>anime/Mirai - Orange.mid</td>\n",
       "      <td>False</td>\n",
       "    </tr>\n",
       "    <tr>\n",
       "      <th>338</th>\n",
       "      <td>anime/TEMPEST.mid</td>\n",
       "      <td>False</td>\n",
       "    </tr>\n",
       "    <tr>\n",
       "      <th>339</th>\n",
       "      <td>anime/Heart Realize - Noragami copy.mid</td>\n",
       "      <td>False</td>\n",
       "    </tr>\n",
       "    <tr>\n",
       "      <th>340</th>\n",
       "      <td>anime/[dragon_ball_super_op_1]_chouzetsu_dynam...</td>\n",
       "      <td>False</td>\n",
       "    </tr>\n",
       "    <tr>\n",
       "      <th>341</th>\n",
       "      <td>anime/Onegai_Muscle.mid</td>\n",
       "      <td>False</td>\n",
       "    </tr>\n",
       "  </tbody>\n",
       "</table>\n",
       "<p>100 rows × 2 columns</p>\n",
       "</div>"
      ],
      "text/plain": [
       "                                                  Path  IsClassic\n",
       "0                                 classic/chpn-p20.mid       True\n",
       "1                                  classic/scn16_6.mid       True\n",
       "2                                 classic/chpn-p12.mid       True\n",
       "3                                  classic/bor_ps2.mid       True\n",
       "4                                  classic/scn15_1.mid       True\n",
       "..                                                 ...        ...\n",
       "337                           anime/Mirai - Orange.mid      False\n",
       "338                                  anime/TEMPEST.mid      False\n",
       "339            anime/Heart Realize - Noragami copy.mid      False\n",
       "340  anime/[dragon_ball_super_op_1]_chouzetsu_dynam...      False\n",
       "341                            anime/Onegai_Muscle.mid      False\n",
       "\n",
       "[100 rows x 2 columns]"
      ]
     },
     "execution_count": 2,
     "metadata": {},
     "output_type": "execute_result"
    }
   ],
   "source": [
    "import pandas as pd\n",
    "\n",
    "\n",
    "midi_files: pd.DataFrame = pd.read_csv(\"./data/meta.csv\")\n",
    "classic_midi_files: pd.DataFrame = midi_files[midi_files[\"IsClassic\"] == True].head(COMPOSITIONS_PER_CLASS)\n",
    "not_classic_midi_files: pd.DataFrame = midi_files[midi_files[\"IsClassic\"] == False].head(COMPOSITIONS_PER_CLASS)\n",
    "midi_files = pd.concat([classic_midi_files, not_classic_midi_files])\n",
    "midi_files"
   ]
  },
  {
   "cell_type": "code",
   "execution_count": 3,
   "metadata": {},
   "outputs": [],
   "source": [
    "import music21\n",
    "from typing import List, Any, Tuple, Dict\n",
    "\n",
    "\n",
    "class MidiSeqProcessor:\n",
    "    def __init__(self, seq_len: int):\n",
    "        self._seq_len: int = seq_len\n",
    "    \n",
    "    def get_sequences(self, score: Any) -> Tuple[List[str], List[str]]:\n",
    "        \"\"\"\n",
    "        :param score: midi score to parse\n",
    "        :return: sequences list with chords representation and duration\n",
    "        \"\"\"\n",
    "        chords: List[str] = []\n",
    "        durations: List[str] = []\n",
    "        for element in score:\n",
    "            if isinstance(element, music21.chord.Chord):\n",
    "                chords.append(\"|\".join([str(note) for note in element.pitches]))\n",
    "                durations.append(str(element.duration.quarterLength))\n",
    "            elif isinstance(element, music21.note.Note):\n",
    "                chords.append(str(element.pitch))\n",
    "                durations.append(str(element.duration.quarterLength))\n",
    "        chord_sequences: List[str] = []\n",
    "        duration_sequences: List[str] = []\n",
    "        for i in range(len(chords) - self._seq_len):\n",
    "            chord_sequences.append(\" \".join(chords[i:i+self._seq_len]))\n",
    "            duration_sequences.append(\" \".join(durations[i:i+self._seq_len]))\n",
    "        return chord_sequences, duration_sequences"
   ]
  },
  {
   "cell_type": "code",
   "execution_count": 4,
   "metadata": {
    "collapsed": false,
    "jupyter": {
     "outputs_hidden": false
    },
    "pycharm": {
     "name": "#%%\n"
    }
   },
   "outputs": [
    {
     "name": "stderr",
     "output_type": "stream",
     "text": [
      "INFO:root:Processed 0 files from 100\n",
      "INFO:root:Processed 1 files from 100\n",
      "INFO:root:Processed 2 files from 100\n",
      "INFO:root:Processed 3 files from 100\n",
      "INFO:root:Processed 4 files from 100\n",
      "INFO:root:Processed 5 files from 100\n",
      "INFO:root:Processed 6 files from 100\n",
      "INFO:root:Processed 7 files from 100\n",
      "INFO:root:Processed 8 files from 100\n",
      "INFO:root:Processed 9 files from 100\n",
      "INFO:root:Processed 10 files from 100\n",
      "INFO:root:Processed 11 files from 100\n",
      "INFO:root:Processed 12 files from 100\n",
      "INFO:root:Processed 13 files from 100\n",
      "INFO:root:Processed 14 files from 100\n",
      "INFO:root:Processed 15 files from 100\n",
      "INFO:root:Processed 16 files from 100\n",
      "INFO:root:Processed 17 files from 100\n",
      "INFO:root:Processed 18 files from 100\n",
      "INFO:root:Processed 19 files from 100\n",
      "INFO:root:Processed 20 files from 100\n",
      "INFO:root:Processed 21 files from 100\n",
      "INFO:root:Processed 22 files from 100\n",
      "INFO:root:Processed 23 files from 100\n",
      "INFO:root:Processed 24 files from 100\n",
      "INFO:root:Processed 25 files from 100\n",
      "INFO:root:Processed 26 files from 100\n",
      "INFO:root:Processed 27 files from 100\n",
      "INFO:root:Processed 28 files from 100\n",
      "INFO:root:Processed 29 files from 100\n",
      "INFO:root:Processed 30 files from 100\n",
      "INFO:root:Processed 31 files from 100\n",
      "INFO:root:Processed 32 files from 100\n",
      "INFO:root:Processed 33 files from 100\n",
      "INFO:root:Processed 34 files from 100\n",
      "INFO:root:Processed 35 files from 100\n",
      "INFO:root:Processed 36 files from 100\n",
      "INFO:root:Processed 37 files from 100\n",
      "INFO:root:Processed 38 files from 100\n",
      "INFO:root:Processed 39 files from 100\n",
      "INFO:root:Processed 40 files from 100\n",
      "INFO:root:Processed 41 files from 100\n",
      "INFO:root:Processed 42 files from 100\n",
      "INFO:root:Processed 43 files from 100\n",
      "INFO:root:Processed 44 files from 100\n",
      "INFO:root:Processed 45 files from 100\n",
      "INFO:root:Processed 46 files from 100\n",
      "INFO:root:Processed 47 files from 100\n",
      "INFO:root:Processed 48 files from 100\n",
      "INFO:root:Processed 49 files from 100\n",
      "INFO:root:Processed 50 files from 100\n",
      "INFO:root:Processed 51 files from 100\n",
      "INFO:root:Processed 52 files from 100\n",
      "INFO:root:Processed 53 files from 100\n",
      "INFO:root:Processed 54 files from 100\n",
      "INFO:root:Processed 55 files from 100\n",
      "INFO:root:Processed 56 files from 100\n",
      "INFO:root:Processed 57 files from 100\n",
      "INFO:root:Processed 58 files from 100\n",
      "INFO:root:Processed 59 files from 100\n",
      "INFO:root:Processed 60 files from 100\n",
      "INFO:root:Processed 61 files from 100\n",
      "INFO:root:Processed 62 files from 100\n",
      "INFO:root:Processed 63 files from 100\n",
      "INFO:root:Processed 64 files from 100\n",
      "INFO:root:Processed 65 files from 100\n",
      "INFO:root:Processed 66 files from 100\n",
      "INFO:root:Processed 67 files from 100\n",
      "INFO:root:Processed 68 files from 100\n",
      "INFO:root:Processed 69 files from 100\n",
      "INFO:root:Processed 70 files from 100\n",
      "INFO:root:Processed 71 files from 100\n",
      "INFO:root:Processed 72 files from 100\n",
      "INFO:root:Processed 73 files from 100\n",
      "INFO:root:Processed 74 files from 100\n",
      "INFO:root:Processed 75 files from 100\n",
      "INFO:root:Processed 76 files from 100\n",
      "INFO:root:Processed 77 files from 100\n",
      "INFO:root:Processed 78 files from 100\n",
      "INFO:root:Processed 79 files from 100\n",
      "INFO:root:Processed 80 files from 100\n",
      "INFO:root:Processed 81 files from 100\n",
      "INFO:root:Processed 82 files from 100\n",
      "INFO:root:Processed 83 files from 100\n",
      "INFO:root:Processed 84 files from 100\n",
      "INFO:root:Processed 85 files from 100\n",
      "INFO:root:Processed 86 files from 100\n",
      "INFO:root:Processed 87 files from 100\n",
      "INFO:root:Processed 88 files from 100\n",
      "INFO:root:Processed 89 files from 100\n",
      "INFO:root:Processed 90 files from 100\n",
      "INFO:root:Processed 91 files from 100\n",
      "INFO:root:Processed 92 files from 100\n",
      "INFO:root:Processed 93 files from 100\n",
      "INFO:root:Processed 94 files from 100\n",
      "INFO:root:Processed 95 files from 100\n",
      "INFO:root:Processed 96 files from 100\n",
      "INFO:root:Processed 97 files from 100\n",
      "INFO:root:Processed 98 files from 100\n",
      "INFO:root:Processed 99 files from 100\n"
     ]
    },
    {
     "data": {
      "text/html": [
       "<div>\n",
       "<style scoped>\n",
       "    .dataframe tbody tr th:only-of-type {\n",
       "        vertical-align: middle;\n",
       "    }\n",
       "\n",
       "    .dataframe tbody tr th {\n",
       "        vertical-align: top;\n",
       "    }\n",
       "\n",
       "    .dataframe thead th {\n",
       "        text-align: right;\n",
       "    }\n",
       "</style>\n",
       "<table border=\"1\" class=\"dataframe\">\n",
       "  <thead>\n",
       "    <tr style=\"text-align: right;\">\n",
       "      <th></th>\n",
       "      <th>ChordSeq</th>\n",
       "      <th>DurationSeq</th>\n",
       "      <th>IsClassic</th>\n",
       "    </tr>\n",
       "  </thead>\n",
       "  <tbody>\n",
       "    <tr>\n",
       "      <th>0</th>\n",
       "      <td>C2|C3|G3|C4|E-4|G4 F1|F2|G#3|C4|E-4|G#4 G1|G2|...</td>\n",
       "      <td>1.0 1.0 0.75 0.25 1.0 1.0 1.0 0.75</td>\n",
       "      <td>1</td>\n",
       "    </tr>\n",
       "    <tr>\n",
       "      <th>1</th>\n",
       "      <td>F1|F2|G#3|C4|E-4|G#4 G1|G2|G3|B3|E-4|G4 G1|G2|...</td>\n",
       "      <td>1.0 0.75 0.25 1.0 1.0 1.0 0.75 0.25</td>\n",
       "      <td>1</td>\n",
       "    </tr>\n",
       "    <tr>\n",
       "      <th>2</th>\n",
       "      <td>G1|G2|G3|B3|E-4|G4 G1|G2|G3|B3|D4|F4 C2|G2|C3|...</td>\n",
       "      <td>0.75 0.25 1.0 1.0 1.0 0.75 0.25 1.0</td>\n",
       "      <td>1</td>\n",
       "    </tr>\n",
       "    <tr>\n",
       "      <th>3</th>\n",
       "      <td>G1|G2|G3|B3|D4|F4 C2|G2|C3|E-3|G3|C4|E-4 G#1|G...</td>\n",
       "      <td>0.25 1.0 1.0 1.0 0.75 0.25 1.0 1.0</td>\n",
       "      <td>1</td>\n",
       "    </tr>\n",
       "    <tr>\n",
       "      <th>4</th>\n",
       "      <td>C2|G2|C3|E-3|G3|C4|E-4 G#1|G#2|E-3|G#3|C4|E-4 ...</td>\n",
       "      <td>1.0 1.0 1.0 0.75 0.25 1.0 1.0 1.0</td>\n",
       "      <td>1</td>\n",
       "    </tr>\n",
       "    <tr>\n",
       "      <th>...</th>\n",
       "      <td>...</td>\n",
       "      <td>...</td>\n",
       "      <td>...</td>\n",
       "    </tr>\n",
       "    <tr>\n",
       "      <th>93711</th>\n",
       "      <td>C#3|F3|C#4|F4|C5 C#4|F4|C5 E-2|E-3|C5 E-2|E-3|...</td>\n",
       "      <td>0.25 0.25 0.25 0.25 0.25 0.25 0.25 0.25</td>\n",
       "      <td>0</td>\n",
       "    </tr>\n",
       "    <tr>\n",
       "      <th>93712</th>\n",
       "      <td>C#4|F4|C5 E-2|E-3|C5 E-2|E-3|B-4 E-2|E-3|C5 E-...</td>\n",
       "      <td>0.25 0.25 0.25 0.25 0.25 0.25 0.25 0.25</td>\n",
       "      <td>0</td>\n",
       "    </tr>\n",
       "    <tr>\n",
       "      <th>93713</th>\n",
       "      <td>E-2|E-3|C5 E-2|E-3|B-4 E-2|E-3|C5 E-2|E-3|E-5 ...</td>\n",
       "      <td>0.25 0.25 0.25 0.25 0.25 0.25 0.25 0.25</td>\n",
       "      <td>0</td>\n",
       "    </tr>\n",
       "    <tr>\n",
       "      <th>93714</th>\n",
       "      <td>E-2|E-3|B-4 E-2|E-3|C5 E-2|E-3|E-5 E-2|E-3|C5 ...</td>\n",
       "      <td>0.25 0.25 0.25 0.25 0.25 0.25 0.25 0.25</td>\n",
       "      <td>0</td>\n",
       "    </tr>\n",
       "    <tr>\n",
       "      <th>93715</th>\n",
       "      <td>E-2|E-3|C5 E-2|E-3|E-5 E-2|E-3|C5 E-5 G#5 G5 E...</td>\n",
       "      <td>0.25 0.25 0.25 0.25 0.25 0.25 0.25 0.25</td>\n",
       "      <td>0</td>\n",
       "    </tr>\n",
       "  </tbody>\n",
       "</table>\n",
       "<p>93716 rows × 3 columns</p>\n",
       "</div>"
      ],
      "text/plain": [
       "                                                ChordSeq  \\\n",
       "0      C2|C3|G3|C4|E-4|G4 F1|F2|G#3|C4|E-4|G#4 G1|G2|...   \n",
       "1      F1|F2|G#3|C4|E-4|G#4 G1|G2|G3|B3|E-4|G4 G1|G2|...   \n",
       "2      G1|G2|G3|B3|E-4|G4 G1|G2|G3|B3|D4|F4 C2|G2|C3|...   \n",
       "3      G1|G2|G3|B3|D4|F4 C2|G2|C3|E-3|G3|C4|E-4 G#1|G...   \n",
       "4      C2|G2|C3|E-3|G3|C4|E-4 G#1|G#2|E-3|G#3|C4|E-4 ...   \n",
       "...                                                  ...   \n",
       "93711  C#3|F3|C#4|F4|C5 C#4|F4|C5 E-2|E-3|C5 E-2|E-3|...   \n",
       "93712  C#4|F4|C5 E-2|E-3|C5 E-2|E-3|B-4 E-2|E-3|C5 E-...   \n",
       "93713  E-2|E-3|C5 E-2|E-3|B-4 E-2|E-3|C5 E-2|E-3|E-5 ...   \n",
       "93714  E-2|E-3|B-4 E-2|E-3|C5 E-2|E-3|E-5 E-2|E-3|C5 ...   \n",
       "93715  E-2|E-3|C5 E-2|E-3|E-5 E-2|E-3|C5 E-5 G#5 G5 E...   \n",
       "\n",
       "                                   DurationSeq  IsClassic  \n",
       "0           1.0 1.0 0.75 0.25 1.0 1.0 1.0 0.75          1  \n",
       "1          1.0 0.75 0.25 1.0 1.0 1.0 0.75 0.25          1  \n",
       "2          0.75 0.25 1.0 1.0 1.0 0.75 0.25 1.0          1  \n",
       "3           0.25 1.0 1.0 1.0 0.75 0.25 1.0 1.0          1  \n",
       "4            1.0 1.0 1.0 0.75 0.25 1.0 1.0 1.0          1  \n",
       "...                                        ...        ...  \n",
       "93711  0.25 0.25 0.25 0.25 0.25 0.25 0.25 0.25          0  \n",
       "93712  0.25 0.25 0.25 0.25 0.25 0.25 0.25 0.25          0  \n",
       "93713  0.25 0.25 0.25 0.25 0.25 0.25 0.25 0.25          0  \n",
       "93714  0.25 0.25 0.25 0.25 0.25 0.25 0.25 0.25          0  \n",
       "93715  0.25 0.25 0.25 0.25 0.25 0.25 0.25 0.25          0  \n",
       "\n",
       "[93716 rows x 3 columns]"
      ]
     },
     "execution_count": 4,
     "metadata": {},
     "output_type": "execute_result"
    }
   ],
   "source": [
    "import os\n",
    "import logging\n",
    "\n",
    "\n",
    "logging.basicConfig(level=logging.INFO)\n",
    "\n",
    "\n",
    "class MusicDataFrameGenerator:\n",
    "    def __init__(self, seq_len: int):\n",
    "        self._seq_len: int = seq_len\n",
    "        self._seq_processor: MidiSeqProcessor = MidiSeqProcessor(seq_len)\n",
    "\n",
    "    def __call__(self, data_dir: str, midi_files: pd.DataFrame) -> pd.DataFrame:\n",
    "        result: Dict[str: List] = {\"ChordSeq\": [], \"DurationSeq\": [], \"IsClassic\": []}\n",
    "        for i, path_to_file, is_classic in zip(range(len(midi_files[\"Path\"])), midi_files[\"Path\"], midi_files[\"IsClassic\"]):\n",
    "            logging.info(f\"Processed {i} files from {len(midi_files['Path'])}\")\n",
    "            path_to_file = os.path.join(data_dir, path_to_file)\n",
    "            score = music21.converter.parse(path_to_file).chordify()\n",
    "            for chord_seq, duration_seq in zip(*self._seq_processor.get_sequences(score)):\n",
    "                result[\"ChordSeq\"].append(chord_seq)\n",
    "                result[\"DurationSeq\"].append(duration_seq)\n",
    "                result[\"IsClassic\"].append(1 if is_classic else 0)\n",
    "        return pd.DataFrame.from_dict(result)\n",
    "\n",
    "data_frame_generator: MusicDataFrameGenerator = MusicDataFrameGenerator(SEQ_LEN)\n",
    "music_data: pd.DataFrame = data_frame_generator(\"./data\", midi_files)\n",
    "music_data"
   ]
  },
  {
   "cell_type": "code",
   "execution_count": 5,
   "metadata": {
    "collapsed": false,
    "jupyter": {
     "outputs_hidden": false
    },
    "pycharm": {
     "name": "#%%\n"
    }
   },
   "outputs": [
    {
     "data": {
      "text/plain": [
       "(61954, 31762)"
      ]
     },
     "execution_count": 5,
     "metadata": {},
     "output_type": "execute_result"
    }
   ],
   "source": [
    "classic_sample: int = len(music_data[music_data[\"IsClassic\"] == 1])\n",
    "not_classic_samples: int = len(music_data[music_data[\"IsClassic\"] == 0])\n",
    "classic_sample, not_classic_samples"
   ]
  },
  {
   "cell_type": "markdown",
   "metadata": {},
   "source": [
    "Our dataset has more classic samples, so we need to downsample it."
   ]
  },
  {
   "cell_type": "code",
   "execution_count": 6,
   "metadata": {
    "collapsed": false,
    "jupyter": {
     "outputs_hidden": false
    },
    "pycharm": {
     "name": "#%%\n"
    }
   },
   "outputs": [
    {
     "data": {
      "text/html": [
       "<div>\n",
       "<style scoped>\n",
       "    .dataframe tbody tr th:only-of-type {\n",
       "        vertical-align: middle;\n",
       "    }\n",
       "\n",
       "    .dataframe tbody tr th {\n",
       "        vertical-align: top;\n",
       "    }\n",
       "\n",
       "    .dataframe thead th {\n",
       "        text-align: right;\n",
       "    }\n",
       "</style>\n",
       "<table border=\"1\" class=\"dataframe\">\n",
       "  <thead>\n",
       "    <tr style=\"text-align: right;\">\n",
       "      <th></th>\n",
       "      <th>ChordSeq</th>\n",
       "      <th>DurationSeq</th>\n",
       "      <th>IsClassic</th>\n",
       "    </tr>\n",
       "  </thead>\n",
       "  <tbody>\n",
       "    <tr>\n",
       "      <th>0</th>\n",
       "      <td>C2|C3|G3|C4|E-4|G4 F1|F2|G#3|C4|E-4|G#4 G1|G2|...</td>\n",
       "      <td>1.0 1.0 0.75 0.25 1.0 1.0 1.0 0.75</td>\n",
       "      <td>1</td>\n",
       "    </tr>\n",
       "    <tr>\n",
       "      <th>1</th>\n",
       "      <td>F1|F2|G#3|C4|E-4|G#4 G1|G2|G3|B3|E-4|G4 G1|G2|...</td>\n",
       "      <td>1.0 0.75 0.25 1.0 1.0 1.0 0.75 0.25</td>\n",
       "      <td>1</td>\n",
       "    </tr>\n",
       "    <tr>\n",
       "      <th>2</th>\n",
       "      <td>G1|G2|G3|B3|E-4|G4 G1|G2|G3|B3|D4|F4 C2|G2|C3|...</td>\n",
       "      <td>0.75 0.25 1.0 1.0 1.0 0.75 0.25 1.0</td>\n",
       "      <td>1</td>\n",
       "    </tr>\n",
       "    <tr>\n",
       "      <th>3</th>\n",
       "      <td>G1|G2|G3|B3|D4|F4 C2|G2|C3|E-3|G3|C4|E-4 G#1|G...</td>\n",
       "      <td>0.25 1.0 1.0 1.0 0.75 0.25 1.0 1.0</td>\n",
       "      <td>1</td>\n",
       "    </tr>\n",
       "    <tr>\n",
       "      <th>4</th>\n",
       "      <td>C2|G2|C3|E-3|G3|C4|E-4 G#1|G#2|E-3|G#3|C4|E-4 ...</td>\n",
       "      <td>1.0 1.0 1.0 0.75 0.25 1.0 1.0 1.0</td>\n",
       "      <td>1</td>\n",
       "    </tr>\n",
       "    <tr>\n",
       "      <th>...</th>\n",
       "      <td>...</td>\n",
       "      <td>...</td>\n",
       "      <td>...</td>\n",
       "    </tr>\n",
       "    <tr>\n",
       "      <th>93711</th>\n",
       "      <td>C#3|F3|C#4|F4|C5 C#4|F4|C5 E-2|E-3|C5 E-2|E-3|...</td>\n",
       "      <td>0.25 0.25 0.25 0.25 0.25 0.25 0.25 0.25</td>\n",
       "      <td>0</td>\n",
       "    </tr>\n",
       "    <tr>\n",
       "      <th>93712</th>\n",
       "      <td>C#4|F4|C5 E-2|E-3|C5 E-2|E-3|B-4 E-2|E-3|C5 E-...</td>\n",
       "      <td>0.25 0.25 0.25 0.25 0.25 0.25 0.25 0.25</td>\n",
       "      <td>0</td>\n",
       "    </tr>\n",
       "    <tr>\n",
       "      <th>93713</th>\n",
       "      <td>E-2|E-3|C5 E-2|E-3|B-4 E-2|E-3|C5 E-2|E-3|E-5 ...</td>\n",
       "      <td>0.25 0.25 0.25 0.25 0.25 0.25 0.25 0.25</td>\n",
       "      <td>0</td>\n",
       "    </tr>\n",
       "    <tr>\n",
       "      <th>93714</th>\n",
       "      <td>E-2|E-3|B-4 E-2|E-3|C5 E-2|E-3|E-5 E-2|E-3|C5 ...</td>\n",
       "      <td>0.25 0.25 0.25 0.25 0.25 0.25 0.25 0.25</td>\n",
       "      <td>0</td>\n",
       "    </tr>\n",
       "    <tr>\n",
       "      <th>93715</th>\n",
       "      <td>E-2|E-3|C5 E-2|E-3|E-5 E-2|E-3|C5 E-5 G#5 G5 E...</td>\n",
       "      <td>0.25 0.25 0.25 0.25 0.25 0.25 0.25 0.25</td>\n",
       "      <td>0</td>\n",
       "    </tr>\n",
       "  </tbody>\n",
       "</table>\n",
       "<p>63524 rows × 3 columns</p>\n",
       "</div>"
      ],
      "text/plain": [
       "                                                ChordSeq  \\\n",
       "0      C2|C3|G3|C4|E-4|G4 F1|F2|G#3|C4|E-4|G#4 G1|G2|...   \n",
       "1      F1|F2|G#3|C4|E-4|G#4 G1|G2|G3|B3|E-4|G4 G1|G2|...   \n",
       "2      G1|G2|G3|B3|E-4|G4 G1|G2|G3|B3|D4|F4 C2|G2|C3|...   \n",
       "3      G1|G2|G3|B3|D4|F4 C2|G2|C3|E-3|G3|C4|E-4 G#1|G...   \n",
       "4      C2|G2|C3|E-3|G3|C4|E-4 G#1|G#2|E-3|G#3|C4|E-4 ...   \n",
       "...                                                  ...   \n",
       "93711  C#3|F3|C#4|F4|C5 C#4|F4|C5 E-2|E-3|C5 E-2|E-3|...   \n",
       "93712  C#4|F4|C5 E-2|E-3|C5 E-2|E-3|B-4 E-2|E-3|C5 E-...   \n",
       "93713  E-2|E-3|C5 E-2|E-3|B-4 E-2|E-3|C5 E-2|E-3|E-5 ...   \n",
       "93714  E-2|E-3|B-4 E-2|E-3|C5 E-2|E-3|E-5 E-2|E-3|C5 ...   \n",
       "93715  E-2|E-3|C5 E-2|E-3|E-5 E-2|E-3|C5 E-5 G#5 G5 E...   \n",
       "\n",
       "                                   DurationSeq  IsClassic  \n",
       "0           1.0 1.0 0.75 0.25 1.0 1.0 1.0 0.75          1  \n",
       "1          1.0 0.75 0.25 1.0 1.0 1.0 0.75 0.25          1  \n",
       "2          0.75 0.25 1.0 1.0 1.0 0.75 0.25 1.0          1  \n",
       "3           0.25 1.0 1.0 1.0 0.75 0.25 1.0 1.0          1  \n",
       "4            1.0 1.0 1.0 0.75 0.25 1.0 1.0 1.0          1  \n",
       "...                                        ...        ...  \n",
       "93711  0.25 0.25 0.25 0.25 0.25 0.25 0.25 0.25          0  \n",
       "93712  0.25 0.25 0.25 0.25 0.25 0.25 0.25 0.25          0  \n",
       "93713  0.25 0.25 0.25 0.25 0.25 0.25 0.25 0.25          0  \n",
       "93714  0.25 0.25 0.25 0.25 0.25 0.25 0.25 0.25          0  \n",
       "93715  0.25 0.25 0.25 0.25 0.25 0.25 0.25 0.25          0  \n",
       "\n",
       "[63524 rows x 3 columns]"
      ]
     },
     "execution_count": 6,
     "metadata": {},
     "output_type": "execute_result"
    }
   ],
   "source": [
    "classic_music_samples: pd.DataFrame = music_data[music_data[\"IsClassic\"] == 1].head(not_classic_samples)\n",
    "not_classic_music_samples: pd.DataFrame = music_data[music_data[\"IsClassic\"] == 0]\n",
    "music_data = pd.concat([classic_music_samples, not_classic_music_samples])\n",
    "music_data"
   ]
  },
  {
   "cell_type": "code",
   "execution_count": 7,
   "metadata": {
    "collapsed": false,
    "jupyter": {
     "outputs_hidden": false
    },
    "pycharm": {
     "name": "#%%\n"
    }
   },
   "outputs": [],
   "source": [
    "\n",
    "music_data.to_csv(\"./data/music_samples.csv\")"
   ]
  },
  {
   "cell_type": "code",
   "execution_count": 8,
   "metadata": {},
   "outputs": [],
   "source": [
    "from sklearn.model_selection import train_test_split\n",
    "from tensorflow.keras.preprocessing.text import Tokenizer\n",
    "from tensorflow.keras.preprocessing.sequence import pad_sequences\n",
    "\n",
    "\n",
    "X = music_data[[\"ChordSeq\", \"DurationSeq\"]]\n",
    "Y = music_data[\"IsClassic\"]\n",
    "train_x, test_x, train_y, test_y = train_test_split(X, Y, shuffle=True, random_state=RANDOM_STATE)\n",
    "tokenizer = Tokenizer(num_words=CHORDS_VOCAB_SIZE, filters=\"\")\n",
    "tokenizer.fit_on_texts(train_x[\"ChordSeq\"])\n",
    "train_chord_seq = tokenizer.texts_to_sequences(train_x[\"ChordSeq\"])\n",
    "test_chord_seq = tokenizer.texts_to_sequences(test_x[\"ChordSeq\"])\n",
    "train_chord_seq = pad_sequences(train_chord_seq, maxlen=SEQ_LEN)\n",
    "test_chord_seq = pad_sequences(test_chord_seq, maxlen=SEQ_LEN)"
   ]
  },
  {
   "cell_type": "code",
   "execution_count": 14,
   "metadata": {
    "pycharm": {
     "name": "#%%\n"
    }
   },
   "outputs": [],
   "source": [
    "from tensorflow.keras.layers import *\n",
    "from tensorflow.keras.models import Model\n",
    "from tensorflow import random\n",
    "from tensorflow.keras.models import load_model\n",
    "import numpy as np\n",
    "import tensorflow as tf\n",
    "\n",
    "physical_devices = tf.config.experimental.list_physical_devices('GPU')\n",
    "config = tf.config.experimental.set_memory_growth(physical_devices[0], True)\n",
    "\n",
    "class DisriminatorMusicModel:\n",
    "    def __init__(self, seq_len: int, chords_vocab_size: int):\n",
    "        random.set_seed(RANDOM_STATE)\n",
    "        i = Input(shape=seq_len)\n",
    "        x = Embedding(chords_vocab_size + 1, 50)(i)\n",
    "        x = LSTM(128, return_sequences=True)(x)\n",
    "        x = Dropout(0.3)(x)\n",
    "        x = LSTM(256, return_sequences=True)(x)\n",
    "        x = GlobalMaxPooling1D()(x)\n",
    "        x = Dense(1, activation=\"sigmoid\")(x)\n",
    "        self._model = Model(i, x)\n",
    "\n",
    "    def fit(self, train_chord_seq: List[str], train_y: np.array, test_chord_seq: List[str], test_y: np.array, epochs: int):\n",
    "        self._model.compile(loss=\"binary_crossentropy\", optimizer=\"adam\", metrics=\"accuracy\")\n",
    "        return self._model.fit(train_chord_seq, train_y, epochs=epochs, validation_data=(test_chord_seq, test_y))\n",
    "\n",
    "    def predict(self, chords: List[str]) -> float:\n",
    "        return self._model.predict(np.array([chords]))\n",
    "\n",
    "    def serialize(self, path: str):\n",
    "        self._model.save(path)\n",
    "\n",
    "    @staticmethod\n",
    "    def deserialize(path: str) -> \"DisriminatorMusicModel\":\n",
    "        res: DisriminatorMusicModel = DisriminatorMusicModel(0, 0)\n",
    "        res._model = load_model('saved_model/my_model')"
   ]
  },
  {
   "cell_type": "code",
   "execution_count": 15,
   "metadata": {
    "collapsed": false,
    "jupyter": {
     "outputs_hidden": false
    },
    "pycharm": {
     "name": "#%%\n"
    }
   },
   "outputs": [
    {
     "name": "stdout",
     "output_type": "stream",
     "text": [
      "Epoch 1/4\n",
      "1489/1489 [==============================] - 12s 8ms/step - loss: 0.1258 - accuracy: 0.9445 - val_loss: 0.0413 - val_accuracy: 0.9856\n",
      "Epoch 2/4\n",
      "1489/1489 [==============================] - 13s 9ms/step - loss: 0.0253 - accuracy: 0.9910 - val_loss: 0.0235 - val_accuracy: 0.9916\n",
      "Epoch 3/4\n",
      "1489/1489 [==============================] - 13s 9ms/step - loss: 0.0155 - accuracy: 0.9945 - val_loss: 0.0215 - val_accuracy: 0.9919\n",
      "Epoch 4/4\n",
      "1489/1489 [==============================] - 13s 8ms/step - loss: 0.0127 - accuracy: 0.9956 - val_loss: 0.0204 - val_accuracy: 0.9929\n"
     ]
    }
   ],
   "source": [
    "disc_music_model: DisriminatorMusicModel = DisriminatorMusicModel(SEQ_LEN, CHORDS_VOCAB_SIZE)\n",
    "history = disc_music_model.fit(train_chord_seq, train_y.to_numpy(), test_chord_seq, test_y.to_numpy(), 4)"
   ]
  },
  {
   "cell_type": "code",
   "execution_count": 11,
   "metadata": {
    "collapsed": false,
    "jupyter": {
     "outputs_hidden": false
    },
    "pycharm": {
     "name": "#%%\n"
    }
   },
   "outputs": [
    {
     "data": {
      "text/plain": [
       "<matplotlib.legend.Legend at 0x7fb11409e3c8>"
      ]
     },
     "execution_count": 11,
     "metadata": {},
     "output_type": "execute_result"
    },
    {
     "data": {
      "image/png": "[encoded data removed]",
      "text/plain": [
       "<Figure size 432x288 with 1 Axes>"
      ]
     },
     "metadata": {
      "image/png": {
       "height": 248,
       "width": 378
      },
      "needs_background": "light"
     },
     "output_type": "display_data"
    }
   ],
   "source": [
    "from matplotlib import pyplot\n",
    "\n",
    "\n",
    "pyplot.plot(history.history[\"loss\"], label=\"loss\")\n",
    "pyplot.plot(history.history[\"val_loss\"], label=\"val_loss\")\n",
    "pyplot.legend()"
   ]
  },
  {
   "cell_type": "code",
   "execution_count": 12,
   "metadata": {
    "collapsed": false,
    "jupyter": {
     "outputs_hidden": false
    },
    "pycharm": {
     "name": "#%%\n"
    }
   },
   "outputs": [
    {
     "name": "stderr",
     "output_type": "stream",
     "text": [
      "WARNING:tensorflow:From /home/jupyter/.local/lib/python3.6/site-packages/tensorflow/python/training/tracking/tracking.py:111: Model.state_updates (from tensorflow.python.keras.engine.training) is deprecated and will be removed in a future version.\n",
      "Instructions for updating:\n",
      "This property should not be used in TensorFlow 2.0, as updates are applied automatically.\n",
      "WARNING:tensorflow:From /home/jupyter/.local/lib/python3.6/site-packages/tensorflow/python/training/tracking/tracking.py:111: Layer.updates (from tensorflow.python.keras.engine.base_layer) is deprecated and will be removed in a future version.\n",
      "Instructions for updating:\n",
      "This property should not be used in TensorFlow 2.0, as updates are applied automatically.\n",
      "INFO:tensorflow:Assets written to: discriminator.mdl/assets\n"
     ]
    }
   ],
   "source": [
    "disc_music_model.serialize(\"discriminator.mdl\")"
   ]
  }
 ],
 "metadata": {
  "kernelspec": {
   "display_name": "Python 3",
   "language": "python",
   "name": "python3"
  },
  "language_info": {
   "codemirror_mode": {
    "name": "ipython",
    "version": 3
   },
   "file_extension": ".py",
   "mimetype": "text/x-python",
   "name": "python",
   "nbconvert_exporter": "python",
   "pygments_lexer": "ipython3",
   "version": "3.6.9"
  }
 },
 "nbformat": 4,
 "nbformat_minor": 4
}
