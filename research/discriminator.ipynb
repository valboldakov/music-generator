{
 "cells": [
  {
   "cell_type": "code",
   "execution_count": 1,
   "metadata": {
    "collapsed": false,
    "jupyter": {
     "outputs_hidden": false
    },
    "pycharm": {
     "name": "#%%\n"
    }
   },
   "outputs": [],
   "source": [
    "import numpy as np\n",
    "import pandas as pd\n",
    "import tensorflow as tf\n",
    "from typing import List\n",
    "from matplotlib import pyplot\n",
    "from sklearn.model_selection import train_test_split\n",
    "from tensorflow import random\n",
    "from tensorflow.keras.layers import *\n",
    "from tensorflow.keras.models import Model\n",
    "from tensorflow.keras.preprocessing.sequence import pad_sequences\n",
    "from tensorflow.keras.preprocessing.text import Tokenizer\n",
    "\n",
    "\n",
    "RANDOM_STATE: int = 152"
   ]
  },
  {
   "cell_type": "code",
   "execution_count": 2,
   "metadata": {
    "collapsed": false,
    "jupyter": {
     "outputs_hidden": false
    },
    "pycharm": {
     "name": "#%%\n"
    }
   },
   "outputs": [],
   "source": [
    "samples: pd.DataFrame = pd.read_csv(\"./data/music_samples.csv\")"
   ]
  },
  {
   "cell_type": "code",
   "execution_count": 3,
   "metadata": {
    "collapsed": false,
    "jupyter": {
     "outputs_hidden": false
    },
    "pycharm": {
     "name": "#%%\n"
    }
   },
   "outputs": [
    {
     "data": {
      "text/plain": [
       "(92042, 42295)"
      ]
     },
     "execution_count": 3,
     "metadata": {},
     "output_type": "execute_result"
    }
   ],
   "source": [
    "classic_sample: int = len(samples[samples[\"IsClassic\"] == 1])\n",
    "not_classic_samples: int = len(samples[samples[\"IsClassic\"] == 0])\n",
    "classic_sample, not_classic_samples"
   ]
  },
  {
   "cell_type": "markdown",
   "metadata": {},
   "source": [
    "Our dataset has more classic samples, so we need to downsample it."
   ]
  },
  {
   "cell_type": "code",
   "execution_count": 4,
   "metadata": {
    "collapsed": false,
    "jupyter": {
     "outputs_hidden": false
    },
    "pycharm": {
     "name": "#%%\n"
    }
   },
   "outputs": [
    {
     "data": {
      "text/html": [
       "<div>\n",
       "<style scoped>\n",
       "    .dataframe tbody tr th:only-of-type {\n",
       "        vertical-align: middle;\n",
       "    }\n",
       "\n",
       "    .dataframe tbody tr th {\n",
       "        vertical-align: top;\n",
       "    }\n",
       "\n",
       "    .dataframe thead th {\n",
       "        text-align: right;\n",
       "    }\n",
       "</style>\n",
       "<table border=\"1\" class=\"dataframe\">\n",
       "  <thead>\n",
       "    <tr style=\"text-align: right;\">\n",
       "      <th></th>\n",
       "      <th>ChordSeq</th>\n",
       "      <th>DurationSeq</th>\n",
       "      <th>IsClassic</th>\n",
       "    </tr>\n",
       "  </thead>\n",
       "  <tbody>\n",
       "    <tr>\n",
       "      <th>0</th>\n",
       "      <td>rest 2 2|5 9|0|3|5 2|3|5|9 9|0|2|3|5 9|0|2|3|5...</td>\n",
       "      <td>5.5 0.25 0.25 1.0 1/3 1/6 0.75 1/12 1/6 0.5 1....</td>\n",
       "      <td>1</td>\n",
       "    </tr>\n",
       "    <tr>\n",
       "      <th>1</th>\n",
       "      <td>2 2|5 9|0|3|5 2|3|5|9 9|0|2|3|5 9|0|2|3|5 9|0|...</td>\n",
       "      <td>0.25 0.25 1.0 1/3 1/6 0.75 1/12 1/6 0.5 1.5 1....</td>\n",
       "      <td>1</td>\n",
       "    </tr>\n",
       "    <tr>\n",
       "      <th>2</th>\n",
       "      <td>2|5 9|0|3|5 2|3|5|9 9|0|2|3|5 9|0|2|3|5 9|0|2|...</td>\n",
       "      <td>0.25 1.0 1/3 1/6 0.75 1/12 1/6 0.5 1.5 1.0 0.2...</td>\n",
       "      <td>1</td>\n",
       "    </tr>\n",
       "    <tr>\n",
       "      <th>3</th>\n",
       "      <td>9|0|3|5 2|3|5|9 9|0|2|3|5 9|0|2|3|5 9|0|2|3|5 ...</td>\n",
       "      <td>1.0 1/3 1/6 0.75 1/12 1/6 0.5 1.5 1.0 0.25 0.2...</td>\n",
       "      <td>1</td>\n",
       "    </tr>\n",
       "    <tr>\n",
       "      <th>4</th>\n",
       "      <td>2|3|5|9 9|0|2|3|5 9|0|2|3|5 9|0|2|3|5 2|3|5|9 ...</td>\n",
       "      <td>1/3 1/6 0.75 1/12 1/6 0.5 1.5 1.0 0.25 0.25 0....</td>\n",
       "      <td>1</td>\n",
       "    </tr>\n",
       "    <tr>\n",
       "      <th>...</th>\n",
       "      <td>...</td>\n",
       "      <td>...</td>\n",
       "      <td>...</td>\n",
       "    </tr>\n",
       "    <tr>\n",
       "      <th>134332</th>\n",
       "      <td>2|4 9|2 9|2 2 2|4 7|9 7|9 2|7 4|7 7|9 7|9 2|7 ...</td>\n",
       "      <td>0.25 0.25 0.25 0.25 0.25 0.25 0.25 0.25 0.25 0...</td>\n",
       "      <td>0</td>\n",
       "    </tr>\n",
       "    <tr>\n",
       "      <th>134333</th>\n",
       "      <td>9|2 9|2 2 2|4 7|9 7|9 2|7 4|7 7|9 7|9 2|7 4|7 ...</td>\n",
       "      <td>0.25 0.25 0.25 0.25 0.25 0.25 0.25 0.25 0.25 0...</td>\n",
       "      <td>0</td>\n",
       "    </tr>\n",
       "    <tr>\n",
       "      <th>134334</th>\n",
       "      <td>9|2 2 2|4 7|9 7|9 2|7 4|7 7|9 7|9 2|7 4|7 6|9 ...</td>\n",
       "      <td>0.25 0.25 0.25 0.25 0.25 0.25 0.25 0.25 0.25 0...</td>\n",
       "      <td>0</td>\n",
       "    </tr>\n",
       "    <tr>\n",
       "      <th>134335</th>\n",
       "      <td>2 2|4 7|9 7|9 2|7 4|7 7|9 7|9 2|7 4|7 6|9 6|9 ...</td>\n",
       "      <td>0.25 0.25 0.25 0.25 0.25 0.25 0.25 0.25 0.25 0...</td>\n",
       "      <td>0</td>\n",
       "    </tr>\n",
       "    <tr>\n",
       "      <th>134336</th>\n",
       "      <td>2|4 7|9 7|9 2|7 4|7 7|9 7|9 2|7 4|7 6|9 6|9 2|...</td>\n",
       "      <td>0.25 0.25 0.25 0.25 0.25 0.25 0.25 0.25 0.25 0...</td>\n",
       "      <td>0</td>\n",
       "    </tr>\n",
       "  </tbody>\n",
       "</table>\n",
       "<p>84590 rows × 3 columns</p>\n",
       "</div>"
      ],
      "text/plain": [
       "                                                 ChordSeq  \\\n",
       "0       rest 2 2|5 9|0|3|5 2|3|5|9 9|0|2|3|5 9|0|2|3|5...   \n",
       "1       2 2|5 9|0|3|5 2|3|5|9 9|0|2|3|5 9|0|2|3|5 9|0|...   \n",
       "2       2|5 9|0|3|5 2|3|5|9 9|0|2|3|5 9|0|2|3|5 9|0|2|...   \n",
       "3       9|0|3|5 2|3|5|9 9|0|2|3|5 9|0|2|3|5 9|0|2|3|5 ...   \n",
       "4       2|3|5|9 9|0|2|3|5 9|0|2|3|5 9|0|2|3|5 2|3|5|9 ...   \n",
       "...                                                   ...   \n",
       "134332  2|4 9|2 9|2 2 2|4 7|9 7|9 2|7 4|7 7|9 7|9 2|7 ...   \n",
       "134333  9|2 9|2 2 2|4 7|9 7|9 2|7 4|7 7|9 7|9 2|7 4|7 ...   \n",
       "134334  9|2 2 2|4 7|9 7|9 2|7 4|7 7|9 7|9 2|7 4|7 6|9 ...   \n",
       "134335  2 2|4 7|9 7|9 2|7 4|7 7|9 7|9 2|7 4|7 6|9 6|9 ...   \n",
       "134336  2|4 7|9 7|9 2|7 4|7 7|9 7|9 2|7 4|7 6|9 6|9 2|...   \n",
       "\n",
       "                                              DurationSeq  IsClassic  \n",
       "0       5.5 0.25 0.25 1.0 1/3 1/6 0.75 1/12 1/6 0.5 1....          1  \n",
       "1       0.25 0.25 1.0 1/3 1/6 0.75 1/12 1/6 0.5 1.5 1....          1  \n",
       "2       0.25 1.0 1/3 1/6 0.75 1/12 1/6 0.5 1.5 1.0 0.2...          1  \n",
       "3       1.0 1/3 1/6 0.75 1/12 1/6 0.5 1.5 1.0 0.25 0.2...          1  \n",
       "4       1/3 1/6 0.75 1/12 1/6 0.5 1.5 1.0 0.25 0.25 0....          1  \n",
       "...                                                   ...        ...  \n",
       "134332  0.25 0.25 0.25 0.25 0.25 0.25 0.25 0.25 0.25 0...          0  \n",
       "134333  0.25 0.25 0.25 0.25 0.25 0.25 0.25 0.25 0.25 0...          0  \n",
       "134334  0.25 0.25 0.25 0.25 0.25 0.25 0.25 0.25 0.25 0...          0  \n",
       "134335  0.25 0.25 0.25 0.25 0.25 0.25 0.25 0.25 0.25 0...          0  \n",
       "134336  0.25 0.25 0.25 0.25 0.25 0.25 0.25 0.25 0.25 0...          0  \n",
       "\n",
       "[84590 rows x 3 columns]"
      ]
     },
     "execution_count": 4,
     "metadata": {},
     "output_type": "execute_result"
    }
   ],
   "source": [
    "classic_music_samples: pd.DataFrame = samples[samples[\"IsClassic\"] == 1].head(not_classic_samples)\n",
    "not_classic_music_samples: pd.DataFrame = samples[samples[\"IsClassic\"] == 0]\n",
    "music_data = pd.concat([classic_music_samples, not_classic_music_samples])\n",
    "music_data"
   ]
  },
  {
   "cell_type": "code",
   "execution_count": 5,
   "metadata": {},
   "outputs": [],
   "source": [
    "X = music_data[[\"ChordSeq\", \"DurationSeq\"]]\n",
    "Y = music_data[\"IsClassic\"]\n",
    "seq_len: int = len(X[\"ChordSeq\"][0].split())\n",
    "train_x, test_x, train_y, test_y = train_test_split(X, Y, shuffle=True, random_state=RANDOM_STATE)\n",
    "tokenizer = Tokenizer(filters=\"\")\n",
    "tokenizer.fit_on_texts(train_x[\"ChordSeq\"])\n",
    "train_chord_seq = tokenizer.texts_to_sequences(train_x[\"ChordSeq\"])\n",
    "test_chord_seq = tokenizer.texts_to_sequences(test_x[\"ChordSeq\"])\n",
    "train_chord_seq = pad_sequences(train_chord_seq, maxlen=seq_len)\n",
    "test_chord_seq = pad_sequences(test_chord_seq, maxlen=seq_len)"
   ]
  },
  {
   "cell_type": "code",
   "execution_count": 6,
   "metadata": {
    "pycharm": {
     "name": "#%%\n"
    }
   },
   "outputs": [],
   "source": [
    "class DisriminatorMusicModel:\n",
    "    def __init__(self, seq_len: int, chords_vocab_size: int):\n",
    "        random.set_seed(RANDOM_STATE)\n",
    "        i = Input(shape=seq_len)\n",
    "        x = Embedding(chords_vocab_size + 1, 50)(i)\n",
    "        x = LSTM(128, return_sequences=True)(x)\n",
    "        x = LSTM(256, return_sequences=True)(x)\n",
    "        x = GlobalMaxPooling1D()(x)\n",
    "        x = Dense(1, activation=\"sigmoid\")(x)\n",
    "        self._model = Model(i, x)\n",
    "\n",
    "    def fit(self, train_chord_seq: List[str], train_y: np.array, test_chord_seq: List[str], test_y: np.array, epochs: int):\n",
    "        self._model.compile(loss=\"binary_crossentropy\", optimizer=\"adam\", metrics=\"accuracy\")\n",
    "        return self._model.fit(train_chord_seq, train_y, epochs=epochs, validation_data=(test_chord_seq, test_y))\n",
    "\n",
    "    def predict(self, chords: List[str]) -> float:\n",
    "        return self._model.predict(np.array([chords]))\n",
    "\n",
    "    def serialize(self, path: str):\n",
    "        self._model.save(path)"
   ]
  },
  {
   "cell_type": "code",
   "execution_count": 7,
   "metadata": {
    "collapsed": false,
    "jupyter": {
     "outputs_hidden": false
    },
    "pycharm": {
     "name": "#%%\n"
    }
   },
   "outputs": [
    {
     "name": "stdout",
     "output_type": "stream",
     "text": [
      "Epoch 1/2\n",
      "1983/1983 [==============================] - 32s 16ms/step - loss: 0.0623 - accuracy: 0.9760 - val_loss: 0.0171 - val_accuracy: 0.9947\n",
      "Epoch 2/2\n",
      "1983/1983 [==============================] - 31s 16ms/step - loss: 0.0079 - accuracy: 0.9973 - val_loss: 0.0014 - val_accuracy: 0.9999\n"
     ]
    }
   ],
   "source": [
    "physical_devices = tf.config.experimental.list_physical_devices('GPU')\n",
    "config = tf.config.experimental.set_memory_growth(physical_devices[0], True)\n",
    "disc_music_model: DisriminatorMusicModel = DisriminatorMusicModel(seq_len, len(tokenizer.word_index))\n",
    "history = disc_music_model.fit(train_chord_seq, train_y.to_numpy(), test_chord_seq, test_y.to_numpy(), 2)"
   ]
  },
  {
   "cell_type": "code",
   "execution_count": 8,
   "metadata": {
    "collapsed": false,
    "jupyter": {
     "outputs_hidden": false
    },
    "pycharm": {
     "name": "#%%\n"
    }
   },
   "outputs": [
    {
     "data": {
      "text/plain": [
       "<matplotlib.legend.Legend at 0x7faf6c69bfd0>"
      ]
     },
     "execution_count": 8,
     "metadata": {},
     "output_type": "execute_result"
    },
    {
     "data": {
      "image/png": "[encoded data removed]",
      "text/plain": [
       "<Figure size 432x288 with 1 Axes>"
      ]
     },
     "metadata": {
      "needs_background": "light"
     },
     "output_type": "display_data"
    }
   ],
   "source": [
    "pyplot.plot(history.history[\"loss\"], label=\"loss\")\n",
    "pyplot.plot(history.history[\"val_loss\"], label=\"val_loss\")\n",
    "pyplot.legend()"
   ]
  },
  {
   "cell_type": "code",
   "execution_count": 9,
   "metadata": {
    "collapsed": false,
    "jupyter": {
     "outputs_hidden": false
    },
    "pycharm": {
     "name": "#%%\n"
    }
   },
   "outputs": [
    {
     "name": "stdout",
     "output_type": "stream",
     "text": [
      "WARNING:tensorflow:From /home/jupyter/.local/lib/python3.6/site-packages/tensorflow/python/ops/resource_variable_ops.py:1817: calling BaseResourceVariable.__init__ (from tensorflow.python.ops.resource_variable_ops) with constraint is deprecated and will be removed in a future version.\n",
      "Instructions for updating:\n",
      "If using Keras pass *_constraint arguments to layers.\n",
      "INFO:tensorflow:Assets written to: ./models/discriminator.mdl/assets\n"
     ]
    }
   ],
   "source": [
    "disc_music_model.serialize(\"./models/discriminator.mdl\")"
   ]
  }
 ],
 "metadata": {
  "kernelspec": {
   "display_name": "Python 3",
   "language": "python",
   "name": "python3"
  },
  "language_info": {
   "codemirror_mode": {
    "name": "ipython",
    "version": 3
   },
   "file_extension": ".py",
   "mimetype": "text/x-python",
   "name": "python",
   "nbconvert_exporter": "python",
   "pygments_lexer": "ipython3",
   "version": "3.6.9"
  }
 },
 "nbformat": 4,
 "nbformat_minor": 4
}
